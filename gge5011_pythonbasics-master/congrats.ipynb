{
 "cells": [
  {
   "cell_type": "markdown",
   "metadata": {},
   "source": [
    "<img src=\"images/000_000_epom_logo.png\" alt=\"ePOM\" title=\"\" align=\"center\" width=\"15%\" alt=\"Python logo\\\"></a>"
   ]
  },
  {
   "cell_type": "markdown",
   "metadata": {},
   "source": [
    "<img align=\"center\" width=\"75%\" style=\"padding-right:10px; padding-top:10px;\" src=\"images/congrats.png\">"
   ]
  },
  {
   "cell_type": "markdown",
   "metadata": {},
   "source": [
    "You reached the end of **Programming Basics with Python**."
   ]
  },
  {
   "cell_type": "markdown",
   "metadata": {},
   "source": [
    "## What's Next?"
   ]
  },
  {
   "cell_type": "markdown",
   "metadata": {},
   "source": [
    "A number of resources are listed in the *Useful References* section of each notebook. You may want to familiarize yourself even more with Python by using them. A great way to become more familiar with a new programming language like Python is to recreate previous programs you have made in other languages using Python. Try putting into place all you have learned here to implement your own code in Python.\n",
    "\n",
    "If you feel ready, move on to the **Ocean Data Science** set of notebooks to further develop your Python skills, and begin to direct your skills towards those useful in the ocean mapping field. \n",
    "\n",
    "***\n",
    "\n",
    "For additional Python inquries not covered by the resources listed in *Programming Basics with Python*, or for issues with accessing the *Ocean Data Science* notebooks please contact Dr. Ian Church (ian.church@unb.ca). "
   ]
  },
  {
   "cell_type": "markdown",
   "metadata": {},
   "source": [
    "<!--NAVIGATION-->\n",
    "[< Summing-Up](009_Summing-Up.ipynb) | [Contents](index.ipynb) |"
   ]
  }
 ],
 "metadata": {
  "kernelspec": {
   "display_name": "Python 3",
   "language": "python",
   "name": "python3"
  },
  "language_info": {
   "codemirror_mode": {
    "name": "ipython",
    "version": 3
   },
   "file_extension": ".py",
   "mimetype": "text/x-python",
   "name": "python",
   "nbconvert_exporter": "python",
   "pygments_lexer": "ipython3",
   "version": "3.7.4"
  }
 },
 "nbformat": 4,
 "nbformat_minor": 4
}
