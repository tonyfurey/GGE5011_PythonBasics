{
 "cells": [
  {
   "cell_type": "markdown",
   "metadata": {},
   "source": [
    "<img src=\"images/000_000_epom_logo.png\" alt=\"ePOM\" title=\"\" align=\"center\" width=\"12%\" alt=\"Python logo\\\"></a>"
   ]
  },
  {
   "cell_type": "markdown",
   "metadata": {},
   "source": [
    "# Programming Basics With Python"
   ]
  },
  {
   "cell_type": "markdown",
   "metadata": {},
   "source": [
    "Welcome! This series of Jupyter Notebooks will help you get on your way to feeling comfortable programming with Python. \n",
    "\n",
    "Start from the *Welcome on Board* notebook below and go from there!"
   ]
  },
  {
   "cell_type": "markdown",
   "metadata": {},
   "source": [
    "## Main Notebooks"
   ]
  },
  {
   "cell_type": "markdown",
   "metadata": {},
   "source": [
    "| Notebook Name | Topics |\n",
    "| --- | --- |\n",
    "| [Welcome on Board](000_Welcome_on_Board.ipynb) | Python: pros and cons. Notebook interaction. `print()` |\n",
    "| [Variable and Types](001_Variables_and_Types.ipynb) | Variables. `int`, `float`, `str`. `type()`. Operators and type casting. |\n",
    "| [Lists of Variables](002_Lists_of_Variables.ipynb) | List. `dir()`. `len()`. Methods. |\n",
    "| [Conditional Execution](003_Conditional_Execution.ipynb) | `bool`. `#`. `if`, `elif`, and `else`. `len()`. `and`, `or`, `not`. |\n",
    "| [Loops](004_Loops.ipynb) | `for` loop. `while` loop. List `pop()`.|\n",
    "| [Write Your Own Functions](005_Write_Your_Own_Functions.ipynb) | `def`. Parameters. `return`. `None`. |\n",
    "| [Read and Write Text Files](006_Read_and_Write_Text_Files.ipynb) | `os` module. `raise`. `open()` |\n",
    "| [Dictionaries and Metadata](007_Dictionaries_and_Metadata.ipynb) | `dict`, `OrderedDict`. Metadata. |\n",
    "| [A Class as a Data Container](008_A_Class_as_a_Data_Container.ipynb) | `class` and `__init__()`. |\n",
    "| [Summing-Up](009_Summing-Up.ipynb) | Review. `str.split()`. `range()`. |\n",
    "\n",
    "***"
   ]
  },
  {
   "cell_type": "markdown",
   "metadata": {},
   "source": [
    "## Supplemental Notebooks"
   ]
  },
  {
   "cell_type": "markdown",
   "metadata": {},
   "source": [
    "| Notebook Name | Topics |\n",
    "| --- | --- |\n",
    "| [Python is Dynamically and Strongly Typed](SUP_Python_is_Dynamically_and_Strongly_Typed.ipynb) | Statically vs. Dynamically Typing. Strongly vs. Weakly Typing. |\n",
    "\n",
    "***"
   ]
  },
  {
   "cell_type": "markdown",
   "metadata": {},
   "source": [
    "## Credits"
   ]
  },
  {
   "cell_type": "markdown",
   "metadata": {},
   "source": [
    "The notebooks were originally developed at the *University of New Hampshire* by:\n",
    "\n",
    "* [Giuseppe Masetti](mailto:gmasetti@ccom.unh.edu>)\n",
    "\n",
    "* [Rochelle Wigley](mailto:rochelle@ccom.unh.edu>)\n",
    "\n",
    "* [Semme Dijkstra](mailto:semmed@ccom.unh.edu>)\n",
    "\n",
    "* [Jordan Chadwick](mailto:jordan.chadwick@gmail.com>)\n",
    "\n",
    "* [Tyanne Faulkes](mailto:tyanne.faulkes@noaa.gov>)\n",
    "\n",
    "***\n",
    "\n",
    "They have been adapted at the *University of New Brunswick* by:\n",
    "\n",
    "* [Ian Church](mailto:ian.church@unb.ca)\n",
    "* Toni McRae\n",
    "* Mark Fortner\n",
    "* [Graham Christie](mailto:graham.christie@unb.ca)\n",
    "\n",
    "***"
   ]
  },
  {
   "cell_type": "markdown",
   "metadata": {},
   "source": [
    "<a href=\"https://github.com/hydroffice/python_basics/raw/master/LICENSE\"><img src=\"https://github.com/hydroffice/python_basics/raw/master/images/LGPLv3.png\" alt=\"LGPLv3\" title=\"Open code license\" style=\"margin-right:10px;float:left;height:50px;\"></a>\n",
    "<a href=\"https://github.com/hydroffice/python_basics/raw/master/TEXT\"><img src=\"https://github.com/hydroffice/python_basics/raw/master/images/CC-BY-SA.png\" alt=\"CC BY-SA\" title=\"Open text license\" style=\"margin:0px;float:left;height:50px;\"></a>"
   ]
  },
  {
   "cell_type": "markdown",
   "metadata": {},
   "source": [
    "Version: UNB 1.0.0"
   ]
  },
  {
   "cell_type": "markdown",
   "metadata": {},
   "source": [
    "GitHub repository: [http://gitlab.omg.unb.ca/teach/gge5011_pythonbasics](http://gitlab.omg.unb.ca/teach/gge5011_pythonbasics)"
   ]
  },
  {
   "cell_type": "markdown",
   "metadata": {},
   "source": [
    "Original EPOM Documentation: [https://www.hydroffice.org/manuals/epom/index.html](https://www.hydroffice.org/manuals/epom/index.html)"
   ]
  },
  {
   "cell_type": "markdown",
   "metadata": {},
   "source": [
    " ***"
   ]
  },
  {
   "cell_type": "markdown",
   "metadata": {},
   "source": [
    "<img align=\"left\" width=\"5%\" style=\"padding-right:10px;\" src=\"images/email.png\">\n",
    "\n",
    "*For issues or suggestions related to these notebooks, write to Dr Ian Church at: ian.church@unb.ca*"
   ]
  }
 ],
 "metadata": {
  "kernelspec": {
   "display_name": "Python 3",
   "language": "python",
   "name": "python3"
  },
  "language_info": {
   "codemirror_mode": {
    "name": "ipython",
    "version": 3
   },
   "file_extension": ".py",
   "mimetype": "text/x-python",
   "name": "python",
   "nbconvert_exporter": "python",
   "pygments_lexer": "ipython3",
   "version": "3.7.4"
  }
 },
 "nbformat": 4,
 "nbformat_minor": 4
}
